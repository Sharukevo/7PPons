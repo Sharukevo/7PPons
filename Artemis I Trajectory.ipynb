{
  "nbformat": 4,
  "nbformat_minor": 0,
  "metadata": {
    "colab": {
      "provenance": [],
      "include_colab_link": true
    },
    "kernelspec": {
      "name": "python3",
      "display_name": "Python 3"
    },
    "language_info": {
      "name": "python"
    }
  },
  "cells": [
    {
      "cell_type": "markdown",
      "metadata": {
        "id": "view-in-github",
        "colab_type": "text"
      },
      "source": [
        "<a href=\"https://colab.research.google.com/github/Sharukevo/7PPons/blob/main/Artemis%20I%20Trajectory.ipynb\" target=\"_parent\"><img src=\"https://colab.research.google.com/assets/colab-badge.svg\" alt=\"Open In Colab\"/></a>"
      ]
    },
    {
      "cell_type": "markdown",
      "source": [
        "# Plotting Artemis I\n"
      ],
      "metadata": {
        "id": "wBOT68PunI_u"
      }
    },
    {
      "cell_type": "code",
      "execution_count": 364,
      "metadata": {
        "id": "TzS4jj18K-Kv"
      },
      "outputs": [],
      "source": [
        "import numpy as np\n",
        "import matplotlib.pyplot as plt\n"
      ]
    },
    {
      "cell_type": "code",
      "source": [
        "path = \"https://raw.githubusercontent.com/Sharukevo/7PPons/main/Artemis_I.csv\"\n",
        "newpath = \"https://raw.githubusercontent.com/Sharukevo/7PPons/main/Artemis%20I.txt\"\n",
        "newnewpath = \"/content/Artemis%20I.txt\"\n",
        "data = np.genfromtxt(path, skip_header=156, skip_footer = 149, delimiter=',', names=['JDTDB','Calendar Date','X','Y','Z'])"
      ],
      "metadata": {
        "id": "vYR25LGELLSl"
      },
      "execution_count": 365,
      "outputs": []
    },
    {
      "cell_type": "code",
      "source": [
        "fig, ax = plt.subplots()\n",
        "\n",
        "#make a sactter plot of the Artemis I X & Y positions\n",
        "ax.scatter(data['X'], data['Y'], s=2,color='red')\n",
        "\n",
        "#put a Moon located at 0,0\n",
        "#ax.scatter(0,0,s=50,color='Gray')\n",
        "\n",
        "#lable our plot\n",
        "ax.set_xlabel('X [km]')\n",
        "ax.set_ylabel('Y [km]')\n",
        "ax.set_title('Artemis I')\n",
        "\n",
        "#make it square aspect ratio\n",
        "ax.set_aspect('equal')\n",
        "\n",
        "#add a grid\n",
        "ax.grid()\n",
        "\n",
        "plt.show()"
      ],
      "metadata": {
        "colab": {
          "base_uri": "https://localhost:8080/",
          "height": 251
        },
        "id": "tmqPwkBpLfld",
        "outputId": "c6b29452-4292-4bbd-d3aa-f5c54b2944aa"
      },
      "execution_count": 366,
      "outputs": [
        {
          "output_type": "display_data",
          "data": {
            "text/plain": [
              "<Figure size 432x288 with 1 Axes>"
            ],
            "image/png": "[encoded data removed]"
          },
          "metadata": {
            "needs_background": "light"
          }
        }
      ]
    },
    {
      "cell_type": "code",
      "source": [
        "fig, ax = plt.subplots()\n",
        "\n",
        "#make a sactter plot of the Artemis I X & Z positions\n",
        "ax.scatter(data['X'], data['Z'], s=2,color='blue')\n",
        "\n",
        "#put a Moons located at 0,0\n",
        "ax.scatter(0,0,s=50,color='orange')\n",
        "\n",
        "#lable our plot\n",
        "ax.set_xlabel('X [km]')\n",
        "ax.set_ylabel('Z [km]')\n",
        "ax.set_title('Artemis I')\n",
        "\n",
        "#make it square aspect ratio\n",
        "#ax.set_aspect('equal')\n",
        "\n",
        "#add a grid\n",
        "ax.grid()\n",
        "\n",
        "plt.show()"
      ],
      "metadata": {
        "colab": {
          "base_uri": "https://localhost:8080/",
          "height": 295
        },
        "id": "PfFqlDMYLwYB",
        "outputId": "54ce1ab1-9a43-4469-cef7-f032c3e64403"
      },
      "execution_count": 367,
      "outputs": [
        {
          "output_type": "display_data",
          "data": {
            "text/plain": [
              "<Figure size 432x288 with 1 Axes>"
            ],
            "image/png": "[encoded data removed]"
          },
          "metadata": {
            "needs_background": "light"
          }
        }
      ]
    },
    {
      "cell_type": "code",
      "source": [
        "path = \"https://raw.githubusercontent.com/Sharukevo/7PPons/main/earth-vector-table.csv\"\n",
        "Earthdata = np.genfromtxt(path, skip_header=54, skip_footer = 48, delimiter=',', names=['JDTDB','Calendar Date','X','Y','Z'])"
      ],
      "metadata": {
        "id": "PyVupli1j4YM"
      },
      "execution_count": 368,
      "outputs": []
    },
    {
      "cell_type": "code",
      "source": [
        "fig, ax = plt.subplots()\n",
        "\n",
        "#make a sactter plot of the 7P/Pons–Winnecke X & Z positions with Earths data\n",
        "ax.scatter(data['X'], data['Z'], s=2,color='blue')\n",
        "ax.plot(Earthdata['X'], Earthdata['Z'], ms=2,color='green')\n",
        "\n",
        "#put a sun located at 0,0\n",
        "ax.scatter(0,0,s=10,color='orange')\n",
        "\n",
        "#lable our plot\n",
        "ax.set_xlabel('X [km]')\n",
        "ax.set_ylabel('Z [km]')\n",
        "ax.set_title('7P/Pons–Winnecke w/ Earths data')\n",
        "\n",
        "#make it square aspect ratio\n",
        "ax.set_aspect('equal')\n",
        "\n",
        "#add a grid\n",
        "ax.grid()\n",
        "\n",
        "plt.show()"
      ],
      "metadata": {
        "colab": {
          "base_uri": "https://localhost:8080/",
          "height": 79
        },
        "id": "nQBl79rmkhAi",
        "outputId": "600c5076-43da-4699-c20f-5b57b4eb13c9"
      },
      "execution_count": 369,
      "outputs": [
        {
          "output_type": "display_data",
          "data": {
            "text/plain": [
              "<Figure size 432x288 with 1 Axes>"
            ],
            "image/png": "[encoded data removed]"
          },
          "metadata": {
            "needs_background": "light"
          }
        }
      ]
    },
    {
      "cell_type": "code",
      "source": [],
      "metadata": {
        "id": "TtcfRIA9qyCF"
      },
      "execution_count": 369,
      "outputs": []
    },
    {
      "cell_type": "code",
      "source": [
        "fig, axs = plt.subplots(1, 2, figsize=(7, 3), sharey=True)\n",
        "\n",
        "#make a sactter plot of the 7P/Pons–Winnecke X & Y positions\n",
        "axs[0].scatter(data['X'], data['Z'], s=.02,color='blue')\n",
        "axs[0].plot(Earthdata['X'], Earthdata['Z'], ms=2, color='green')\n",
        "\n",
        "#put a sun located at 0,0\n",
        "axs[0].scatter(0,0,s=10,color='orange')\n",
        "\n",
        "#lable our plot\n",
        "axs[0].set_xlabel('X [km]')\n",
        "axs[0].set_ylabel('Z [km]')\n",
        "axs[0].set_title('7P/Pons–Winnecke + Earth Orbit \\n Side View')\n",
        "\n",
        "#make it square aspect ratio\n",
        "axs[0].set_aspect('equal')\n",
        "\n",
        "axs[1].set_xlim(-.15E7,.15E8)\n",
        "axs[1].set_ylim(-.2E7,2E8)\n",
        "#add a grid\n",
        "axs[1].grid()\n",
        "\n",
        "\n",
        "#make a sactter plot of the 7P/Pons–Winnecke X & Y positions\n",
        "axs[1].scatter(data['X'], data['Y'], s=0.02, color='blue')\n",
        "axs[1].plot(Earthdata['X'], Earthdata['Y'], ms=5, color='green')\n",
        "\n",
        "#put a sun located at 0,0\n",
        "axs[1].scatter(0,0,s=10,color='orange')\n",
        "\n",
        "#lable our plot\n",
        "axs[1].set_xlabel('X [km]')\n",
        "axs[1].set_ylabel('Z [km]')\n",
        "axs[1].set_title('7P/Pons–Winnecke + Earth Orbit \\n Top View')\n",
        "\n",
        "#make it square aspect ratio\n",
        "axs[1].set_aspect('equal')\n",
        "\n",
        "axs[1].set_xlim(-0.5E9,0.5E9)\n",
        "axs[1].set_ylim(-0.5E9,0.5E9)\n",
        "#add a grid\n",
        "axs[0].grid()\n",
        "\n",
        "plt.show()"
      ],
      "metadata": {
        "colab": {
          "base_uri": "https://localhost:8080/",
          "height": 256
        },
        "id": "DJZ7_AozkpeJ",
        "outputId": "5a5d9ba4-a3fd-4001-f023-28b081422e7a"
      },
      "execution_count": 370,
      "outputs": [
        {
          "output_type": "display_data",
          "data": {
            "text/plain": [
              "<Figure size 504x216 with 2 Axes>"
            ],
            "image/png": "[encoded data removed]"
          },
          "metadata": {
            "needs_background": "light"
          }
        }
      ]
    },
    {
      "cell_type": "code",
      "source": [
        "path = \"https://raw.githubusercontent.com/Sharukevo/7PPons/main/moon_data.csv\"\n",
        "moondata = np.genfromtxt(path, skip_header=54, skip_footer = 48, delimiter=',', names=['JDTDB','Calendar Date','X','Y','Z'])"
      ],
      "metadata": {
        "id": "hK9X5MUiir8z"
      },
      "execution_count": 371,
      "outputs": []
    },
    {
      "cell_type": "code",
      "source": [
        "fig, ax = plt.subplots()\n",
        "\n",
        "#make a sactter plot of the Artemis I X & Y positions\n",
        "ax.scatter(data['X'], data['Y'], s=20,color='red')\n",
        "ax.plot(moondata['X'], moondata['Y'], ms=20, color='Gray')\n",
        "\n",
        "#put a Earth located at 0,0\n",
        "ax.scatter(0,0,s=60,color='Blue')\n",
        "#ax.plot(Earthdata['X'], Earthdata['Y'], ms=.0001,color='blue')\n",
        "\n",
        "#lable our plot\n",
        "ax.set_xlabel('X [km]')\n",
        "ax.set_ylabel('Y [km]')\n",
        "ax.set_title('Artemis I Trajectory')\n",
        "\n",
        "#make it square aspect ratio\n",
        "ax.set_aspect('equal')\n",
        "#ax.set_xlim(0.25E8,.87E8)\n",
        "#ax.set_ylim(1.18E8,1.5E8)\n",
        "ax.set_xlim(-.5E8,1E8)\n",
        "ax.set_ylim(-0.12E8,1.5E8)\n",
        "\n",
        "#add a grid\n",
        "ax.grid()\n",
        "\n",
        "\n",
        "\n",
        "plt.show()"
      ],
      "metadata": {
        "id": "IcllgAwJhy0a",
        "outputId": "8802e941-4b72-40ff-bc60-ee4eabcd4547",
        "colab": {
          "base_uri": "https://localhost:8080/",
          "height": 295
        }
      },
      "execution_count": 372,
      "outputs": [
        {
          "output_type": "display_data",
          "data": {
            "text/plain": [
              "<Figure size 432x288 with 1 Axes>"
            ],
            "image/png": "[encoded data removed]"
          },
          "metadata": {
            "needs_background": "light"
          }
        }
      ]
    }
  ]
}